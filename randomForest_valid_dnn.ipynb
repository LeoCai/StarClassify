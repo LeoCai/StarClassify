{
 "cells": [
  {
   "cell_type": "code",
   "execution_count": 38,
   "metadata": {},
   "outputs": [],
   "source": [
    "import pandas as pd\n",
    "from pandas import DataFrame\n",
    "from pandas import concat\n",
    "import matplotlib.pyplot as plt\n",
    "import xgboost as xgb\n",
    "from sklearn.datasets import load_iris\n",
    "from sklearn.ensemble import RandomForestClassifier\n",
    "import pandas as pd\n",
    "import numpy as np\n",
    "from sklearn.cross_validation import cross_val_score # K折交叉验证模块\n",
    "from sklearn.metrics import roc_auc_score\n",
    "from sklearn.preprocessing import MinMaxScaler\n",
    "from sklearn import preprocessing\n",
    "from sklearn import svm\n",
    "from sklearn.feature_selection import VarianceThreshold\n",
    "from sklearn.feature_selection import RFE\n",
    "from keras.models import Sequential\n",
    "from keras.layers import Dense,Dropout\n",
    "from keras.wrappers.scikit_learn import KerasClassifier\n",
    "from keras.utils import np_utils\n",
    "from numpy import argmax\n",
    "from xgboost.sklearn import XGBClassifier\n",
    "\n",
    "%matplotlib inline"
   ]
  },
  {
   "cell_type": "code",
   "execution_count": 2,
   "metadata": {},
   "outputs": [],
   "source": [
    "def submit(preds, test_feature, label_map):\n",
    "    submission = test_feature[['id']]\n",
    "    submission['pred'] = [label_map[l] for l in np.nditer(preds)]\n",
    "    submission.to_csv('./predicts/0216_1_partition.csv', header=False, index=False)\n",
    "    return submission\n",
    "    "
   ]
  },
  {
   "cell_type": "code",
   "execution_count": 3,
   "metadata": {},
   "outputs": [
    {
     "data": {
      "text/html": [
       "<div>\n",
       "<style>\n",
       "    .dataframe thead tr:only-child th {\n",
       "        text-align: right;\n",
       "    }\n",
       "\n",
       "    .dataframe thead th {\n",
       "        text-align: left;\n",
       "    }\n",
       "\n",
       "    .dataframe tbody tr th {\n",
       "        vertical-align: top;\n",
       "    }\n",
       "</style>\n",
       "<table border=\"1\" class=\"dataframe\">\n",
       "  <thead>\n",
       "    <tr style=\"text-align: right;\">\n",
       "      <th></th>\n",
       "      <th>0</th>\n",
       "      <th>1</th>\n",
       "      <th>2</th>\n",
       "      <th>3</th>\n",
       "      <th>4</th>\n",
       "      <th>5</th>\n",
       "      <th>6</th>\n",
       "      <th>7</th>\n",
       "      <th>8</th>\n",
       "      <th>9</th>\n",
       "      <th>...</th>\n",
       "      <th>196</th>\n",
       "      <th>197</th>\n",
       "      <th>198</th>\n",
       "      <th>199</th>\n",
       "      <th>200</th>\n",
       "      <th>201</th>\n",
       "      <th>202</th>\n",
       "      <th>203</th>\n",
       "      <th>204</th>\n",
       "      <th>205</th>\n",
       "    </tr>\n",
       "  </thead>\n",
       "  <tbody>\n",
       "    <tr>\n",
       "      <th>0</th>\n",
       "      <td>696220</td>\n",
       "      <td>1206.6</td>\n",
       "      <td>4833.9</td>\n",
       "      <td>-362.9</td>\n",
       "      <td>2807192.6</td>\n",
       "      <td>2842.6</td>\n",
       "      <td>3028.4</td>\n",
       "      <td>2958.7</td>\n",
       "      <td>1128.8</td>\n",
       "      <td>2927.0</td>\n",
       "      <td>...</td>\n",
       "      <td>2.5</td>\n",
       "      <td>-98.0</td>\n",
       "      <td>2.2</td>\n",
       "      <td>-89.8</td>\n",
       "      <td>1.5</td>\n",
       "      <td>-94.5</td>\n",
       "      <td>2.1</td>\n",
       "      <td>-75.8</td>\n",
       "      <td>2.0</td>\n",
       "      <td>star</td>\n",
       "    </tr>\n",
       "    <tr>\n",
       "      <th>1</th>\n",
       "      <td>911466</td>\n",
       "      <td>112.2</td>\n",
       "      <td>166.7</td>\n",
       "      <td>-2.9</td>\n",
       "      <td>899.3</td>\n",
       "      <td>17.0</td>\n",
       "      <td>1.1</td>\n",
       "      <td>20.7</td>\n",
       "      <td>0.3</td>\n",
       "      <td>23.8</td>\n",
       "      <td>...</td>\n",
       "      <td>0.2</td>\n",
       "      <td>89.4</td>\n",
       "      <td>0.4</td>\n",
       "      <td>88.8</td>\n",
       "      <td>0.3</td>\n",
       "      <td>88.5</td>\n",
       "      <td>0.2</td>\n",
       "      <td>77.3</td>\n",
       "      <td>6.9</td>\n",
       "      <td>star</td>\n",
       "    </tr>\n",
       "    <tr>\n",
       "      <th>2</th>\n",
       "      <td>915856</td>\n",
       "      <td>61.4</td>\n",
       "      <td>126.5</td>\n",
       "      <td>24.1</td>\n",
       "      <td>434.2</td>\n",
       "      <td>80.8</td>\n",
       "      <td>2.2</td>\n",
       "      <td>86.1</td>\n",
       "      <td>1.4</td>\n",
       "      <td>90.3</td>\n",
       "      <td>...</td>\n",
       "      <td>0.1</td>\n",
       "      <td>33.4</td>\n",
       "      <td>0.1</td>\n",
       "      <td>30.7</td>\n",
       "      <td>0.1</td>\n",
       "      <td>30.9</td>\n",
       "      <td>0.1</td>\n",
       "      <td>31.5</td>\n",
       "      <td>0.0</td>\n",
       "      <td>star</td>\n",
       "    </tr>\n",
       "    <tr>\n",
       "      <th>3</th>\n",
       "      <td>720026</td>\n",
       "      <td>12073.5</td>\n",
       "      <td>20181.5</td>\n",
       "      <td>3666.1</td>\n",
       "      <td>17101718.7</td>\n",
       "      <td>13748.7</td>\n",
       "      <td>69732.8</td>\n",
       "      <td>15392.9</td>\n",
       "      <td>43757.4</td>\n",
       "      <td>13870.7</td>\n",
       "      <td>...</td>\n",
       "      <td>47.0</td>\n",
       "      <td>6240.3</td>\n",
       "      <td>92.9</td>\n",
       "      <td>6072.5</td>\n",
       "      <td>116.9</td>\n",
       "      <td>6095.6</td>\n",
       "      <td>28.4</td>\n",
       "      <td>6039.1</td>\n",
       "      <td>60.9</td>\n",
       "      <td>star</td>\n",
       "    </tr>\n",
       "    <tr>\n",
       "      <th>4</th>\n",
       "      <td>1198160</td>\n",
       "      <td>379.8</td>\n",
       "      <td>491.7</td>\n",
       "      <td>-225.7</td>\n",
       "      <td>11729.1</td>\n",
       "      <td>-8.1</td>\n",
       "      <td>68.4</td>\n",
       "      <td>8.5</td>\n",
       "      <td>26.5</td>\n",
       "      <td>51.7</td>\n",
       "      <td>...</td>\n",
       "      <td>0.8</td>\n",
       "      <td>392.1</td>\n",
       "      <td>1.4</td>\n",
       "      <td>395.1</td>\n",
       "      <td>0.5</td>\n",
       "      <td>396.7</td>\n",
       "      <td>0.4</td>\n",
       "      <td>367.7</td>\n",
       "      <td>11.0</td>\n",
       "      <td>star</td>\n",
       "    </tr>\n",
       "  </tbody>\n",
       "</table>\n",
       "<p>5 rows × 206 columns</p>\n",
       "</div>"
      ],
      "text/plain": [
       "       0        1        2       3           4        5        6        7    \\\n",
       "0   696220   1206.6   4833.9  -362.9   2807192.6   2842.6   3028.4   2958.7   \n",
       "1   911466    112.2    166.7    -2.9       899.3     17.0      1.1     20.7   \n",
       "2   915856     61.4    126.5    24.1       434.2     80.8      2.2     86.1   \n",
       "3   720026  12073.5  20181.5  3666.1  17101718.7  13748.7  69732.8  15392.9   \n",
       "4  1198160    379.8    491.7  -225.7     11729.1     -8.1     68.4      8.5   \n",
       "\n",
       "       8        9    ...    196     197   198     199    200     201   202  \\\n",
       "0   1128.8   2927.0  ...    2.5   -98.0   2.2   -89.8    1.5   -94.5   2.1   \n",
       "1      0.3     23.8  ...    0.2    89.4   0.4    88.8    0.3    88.5   0.2   \n",
       "2      1.4     90.3  ...    0.1    33.4   0.1    30.7    0.1    30.9   0.1   \n",
       "3  43757.4  13870.7  ...   47.0  6240.3  92.9  6072.5  116.9  6095.6  28.4   \n",
       "4     26.5     51.7  ...    0.8   392.1   1.4   395.1    0.5   396.7   0.4   \n",
       "\n",
       "      203   204   205  \n",
       "0   -75.8   2.0  star  \n",
       "1    77.3   6.9  star  \n",
       "2    31.5   0.0  star  \n",
       "3  6039.1  60.9  star  \n",
       "4   367.7  11.0  star  \n",
       "\n",
       "[5 rows x 206 columns]"
      ]
     },
     "execution_count": 3,
     "metadata": {},
     "output_type": "execute_result"
    }
   ],
   "source": [
    "test_feature = pd.read_csv('./test_feature_partition0215_p_100_var.csv',header=None)\n",
    "test_feature.head()\n",
    "train_feature = pd.read_csv('./train_feature_partition0215_p_100_var.csv',header=None)\n",
    "test_feature.rename(columns={0:'id'}, inplace=True)\n",
    "train_feature.head()\n"
   ]
  },
  {
   "cell_type": "code",
   "execution_count": 4,
   "metadata": {},
   "outputs": [
    {
     "data": {
      "text/plain": [
       "206"
      ]
     },
     "execution_count": 4,
     "metadata": {},
     "output_type": "execute_result"
    }
   ],
   "source": [
    "train_feature.shape[1]"
   ]
  },
  {
   "cell_type": "code",
   "execution_count": 5,
   "metadata": {},
   "outputs": [
    {
     "data": {
      "text/html": [
       "<div>\n",
       "<style>\n",
       "    .dataframe thead tr:only-child th {\n",
       "        text-align: right;\n",
       "    }\n",
       "\n",
       "    .dataframe thead th {\n",
       "        text-align: left;\n",
       "    }\n",
       "\n",
       "    .dataframe tbody tr th {\n",
       "        vertical-align: top;\n",
       "    }\n",
       "</style>\n",
       "<table border=\"1\" class=\"dataframe\">\n",
       "  <thead>\n",
       "    <tr style=\"text-align: right;\">\n",
       "      <th></th>\n",
       "      <th>id</th>\n",
       "      <th>1</th>\n",
       "      <th>2</th>\n",
       "      <th>3</th>\n",
       "      <th>4</th>\n",
       "      <th>5</th>\n",
       "      <th>6</th>\n",
       "      <th>7</th>\n",
       "      <th>8</th>\n",
       "      <th>9</th>\n",
       "      <th>...</th>\n",
       "      <th>196</th>\n",
       "      <th>197</th>\n",
       "      <th>198</th>\n",
       "      <th>199</th>\n",
       "      <th>200</th>\n",
       "      <th>201</th>\n",
       "      <th>202</th>\n",
       "      <th>203</th>\n",
       "      <th>204</th>\n",
       "      <th>label</th>\n",
       "    </tr>\n",
       "  </thead>\n",
       "  <tbody>\n",
       "    <tr>\n",
       "      <th>0</th>\n",
       "      <td>696220</td>\n",
       "      <td>1206.6</td>\n",
       "      <td>4833.9</td>\n",
       "      <td>-362.9</td>\n",
       "      <td>2807192.6</td>\n",
       "      <td>2842.6</td>\n",
       "      <td>3028.4</td>\n",
       "      <td>2958.7</td>\n",
       "      <td>1128.8</td>\n",
       "      <td>2927.0</td>\n",
       "      <td>...</td>\n",
       "      <td>2.5</td>\n",
       "      <td>-98.0</td>\n",
       "      <td>2.2</td>\n",
       "      <td>-89.8</td>\n",
       "      <td>1.5</td>\n",
       "      <td>-94.5</td>\n",
       "      <td>2.1</td>\n",
       "      <td>-75.8</td>\n",
       "      <td>2.0</td>\n",
       "      <td>star</td>\n",
       "    </tr>\n",
       "    <tr>\n",
       "      <th>1</th>\n",
       "      <td>911466</td>\n",
       "      <td>112.2</td>\n",
       "      <td>166.7</td>\n",
       "      <td>-2.9</td>\n",
       "      <td>899.3</td>\n",
       "      <td>17.0</td>\n",
       "      <td>1.1</td>\n",
       "      <td>20.7</td>\n",
       "      <td>0.3</td>\n",
       "      <td>23.8</td>\n",
       "      <td>...</td>\n",
       "      <td>0.2</td>\n",
       "      <td>89.4</td>\n",
       "      <td>0.4</td>\n",
       "      <td>88.8</td>\n",
       "      <td>0.3</td>\n",
       "      <td>88.5</td>\n",
       "      <td>0.2</td>\n",
       "      <td>77.3</td>\n",
       "      <td>6.9</td>\n",
       "      <td>star</td>\n",
       "    </tr>\n",
       "    <tr>\n",
       "      <th>2</th>\n",
       "      <td>915856</td>\n",
       "      <td>61.4</td>\n",
       "      <td>126.5</td>\n",
       "      <td>24.1</td>\n",
       "      <td>434.2</td>\n",
       "      <td>80.8</td>\n",
       "      <td>2.2</td>\n",
       "      <td>86.1</td>\n",
       "      <td>1.4</td>\n",
       "      <td>90.3</td>\n",
       "      <td>...</td>\n",
       "      <td>0.1</td>\n",
       "      <td>33.4</td>\n",
       "      <td>0.1</td>\n",
       "      <td>30.7</td>\n",
       "      <td>0.1</td>\n",
       "      <td>30.9</td>\n",
       "      <td>0.1</td>\n",
       "      <td>31.5</td>\n",
       "      <td>0.0</td>\n",
       "      <td>star</td>\n",
       "    </tr>\n",
       "    <tr>\n",
       "      <th>3</th>\n",
       "      <td>720026</td>\n",
       "      <td>12073.5</td>\n",
       "      <td>20181.5</td>\n",
       "      <td>3666.1</td>\n",
       "      <td>17101718.7</td>\n",
       "      <td>13748.7</td>\n",
       "      <td>69732.8</td>\n",
       "      <td>15392.9</td>\n",
       "      <td>43757.4</td>\n",
       "      <td>13870.7</td>\n",
       "      <td>...</td>\n",
       "      <td>47.0</td>\n",
       "      <td>6240.3</td>\n",
       "      <td>92.9</td>\n",
       "      <td>6072.5</td>\n",
       "      <td>116.9</td>\n",
       "      <td>6095.6</td>\n",
       "      <td>28.4</td>\n",
       "      <td>6039.1</td>\n",
       "      <td>60.9</td>\n",
       "      <td>star</td>\n",
       "    </tr>\n",
       "    <tr>\n",
       "      <th>4</th>\n",
       "      <td>1198160</td>\n",
       "      <td>379.8</td>\n",
       "      <td>491.7</td>\n",
       "      <td>-225.7</td>\n",
       "      <td>11729.1</td>\n",
       "      <td>-8.1</td>\n",
       "      <td>68.4</td>\n",
       "      <td>8.5</td>\n",
       "      <td>26.5</td>\n",
       "      <td>51.7</td>\n",
       "      <td>...</td>\n",
       "      <td>0.8</td>\n",
       "      <td>392.1</td>\n",
       "      <td>1.4</td>\n",
       "      <td>395.1</td>\n",
       "      <td>0.5</td>\n",
       "      <td>396.7</td>\n",
       "      <td>0.4</td>\n",
       "      <td>367.7</td>\n",
       "      <td>11.0</td>\n",
       "      <td>star</td>\n",
       "    </tr>\n",
       "  </tbody>\n",
       "</table>\n",
       "<p>5 rows × 206 columns</p>\n",
       "</div>"
      ],
      "text/plain": [
       "        id        1        2       3           4        5        6        7  \\\n",
       "0   696220   1206.6   4833.9  -362.9   2807192.6   2842.6   3028.4   2958.7   \n",
       "1   911466    112.2    166.7    -2.9       899.3     17.0      1.1     20.7   \n",
       "2   915856     61.4    126.5    24.1       434.2     80.8      2.2     86.1   \n",
       "3   720026  12073.5  20181.5  3666.1  17101718.7  13748.7  69732.8  15392.9   \n",
       "4  1198160    379.8    491.7  -225.7     11729.1     -8.1     68.4      8.5   \n",
       "\n",
       "         8        9  ...     196     197   198     199    200     201   202  \\\n",
       "0   1128.8   2927.0  ...     2.5   -98.0   2.2   -89.8    1.5   -94.5   2.1   \n",
       "1      0.3     23.8  ...     0.2    89.4   0.4    88.8    0.3    88.5   0.2   \n",
       "2      1.4     90.3  ...     0.1    33.4   0.1    30.7    0.1    30.9   0.1   \n",
       "3  43757.4  13870.7  ...    47.0  6240.3  92.9  6072.5  116.9  6095.6  28.4   \n",
       "4     26.5     51.7  ...     0.8   392.1   1.4   395.1    0.5   396.7   0.4   \n",
       "\n",
       "      203   204  label  \n",
       "0   -75.8   2.0   star  \n",
       "1    77.3   6.9   star  \n",
       "2    31.5   0.0   star  \n",
       "3  6039.1  60.9   star  \n",
       "4   367.7  11.0   star  \n",
       "\n",
       "[5 rows x 206 columns]"
      ]
     },
     "execution_count": 5,
     "metadata": {},
     "output_type": "execute_result"
    }
   ],
   "source": [
    "columns = {0:'id'}\n",
    "columns[train_feature.shape[1]-1] = 'label'\n",
    "train_feature.rename(columns=columns, inplace=True)\n",
    "train_feature.head()"
   ]
  },
  {
   "cell_type": "code",
   "execution_count": 6,
   "metadata": {},
   "outputs": [],
   "source": [
    "def getTrain(train_feature):\n",
    "    train_feature = train_feature.sample(train_feature.shape[0],replace=False)\n",
    "    testEnd = int(train_feature.shape[0]/3)\n",
    "    train_test = train_feature.loc[:testEnd,:]\n",
    "    train_feature = train_feature.loc[testEnd:,:]\n",
    "    return (train_test, train_feature)"
   ]
  },
  {
   "cell_type": "code",
   "execution_count": 7,
   "metadata": {},
   "outputs": [],
   "source": [
    "def balanceData(train_feature):\n",
    "    train_star = train_feature[train_feature.label=='star'].sample(30000, replace=True)\n",
    "    unknow_star = train_feature[train_feature.label=='unknown'].sample(30000, replace=True)\n",
    "    galaxy_star = train_feature[train_feature.label=='galaxy'].sample(30000, replace=True)\n",
    "    qso_star = train_feature[train_feature.label=='qso'].sample(30000, replace=True)\n",
    "    sampled_train = pd.concat([train_star,unknow_star,galaxy_star, qso_star])\n",
    "    features = train_feature.columns[1:-1]\n",
    "    x= sampled_train[features]\n",
    "    y, label_map = pd.factorize(sampled_train['label'])\n",
    "    return x, y, label_map"
   ]
  },
  {
   "cell_type": "code",
   "execution_count": 8,
   "metadata": {},
   "outputs": [],
   "source": [
    "train_t, train_f =  getTrain(train_feature)\n",
    "x, y, label_map = balanceData(train_f)\n",
    "t_x, t_y, _ = balanceData(train_t)"
   ]
  },
  {
   "cell_type": "code",
   "execution_count": 34,
   "metadata": {},
   "outputs": [],
   "source": [
    "def baseline_model(input_dim):\n",
    "\t# create model\n",
    "\tmodel = Sequential()\n",
    "\tmodel.add(Dense(200, input_dim=input_dim, activation='relu'))\n",
    "\tmodel.add(Dense(80, input_dim=input_dim, activation='relu'))\n",
    "\tmodel.add(Dense(40, input_dim=input_dim, activation='relu'))\n",
    "\tmodel.add(Dense(4, activation='softmax'))\n",
    "\t# Compile model\n",
    "\tmodel.compile(loss='categorical_crossentropy', optimizer='adam', metrics=['accuracy'])\n",
    "\treturn model"
   ]
  },
  {
   "cell_type": "code",
   "execution_count": 39,
   "metadata": {},
   "outputs": [
    {
     "data": {
      "text/plain": [
       "0.83103333333333329"
      ]
     },
     "execution_count": 39,
     "metadata": {},
     "output_type": "execute_result"
    }
   ],
   "source": [
    "clf = RandomForestClassifier(n_jobs=4, max_depth=10, n_estimators=200)\n",
    "clf = XGBClassifier(\n",
    " learning_rate =0.1,\n",
    " n_estimators=200,\n",
    " max_depth=6,\n",
    " min_child_weight=1,\n",
    " gamma=0,\n",
    " subsample=0.8,\n",
    " colsample_bytree=0.8,\n",
    " objective= 'binary:logistic',\n",
    " nthread=4,\n",
    " scale_pos_weight=1,\n",
    " seed=27)\n",
    "rs = clf.fit(x, y)\n",
    "preds_test = clf.predict(t_x)\n",
    "clf.score(t_x, t_y)"
   ]
  },
  {
   "cell_type": "code",
   "execution_count": 32,
   "metadata": {},
   "outputs": [
    {
     "data": {
      "text/plain": [
       "array([0, 0, 0, ..., 3, 3, 3])"
      ]
     },
     "execution_count": 32,
     "metadata": {},
     "output_type": "execute_result"
    }
   ],
   "source": [
    "t_y"
   ]
  },
  {
   "cell_type": "code",
   "execution_count": 36,
   "metadata": {},
   "outputs": [
    {
     "name": "stdout",
     "output_type": "stream",
     "text": [
      "Epoch 1/1\n",
      "120000/120000 [==============================] - 14s 119us/step - loss: 2.1523 - acc: 0.6986\n"
     ]
    },
    {
     "data": {
      "text/plain": [
       "0.7576583333333333"
      ]
     },
     "execution_count": 36,
     "metadata": {},
     "output_type": "execute_result"
    }
   ],
   "source": [
    "#clf = RandomForestClassifier(n_jobs=4, max_depth=10, n_estimators=200)\n",
    "clf = baseline_model(x.shape[1])\n",
    "dummy_y = np_utils.to_categorical(y)\n",
    "rs = clf.fit(x, dummy_y)\n",
    "preds_test = clf.predict(t_x)\n",
    "preds_label = argmax(preds_test,axis=1)\n"
   ]
  },
  {
   "cell_type": "code",
   "execution_count": 37,
   "metadata": {},
   "outputs": [
    {
     "data": {
      "text/plain": [
       "0.7576583333333333"
      ]
     },
     "execution_count": 37,
     "metadata": {},
     "output_type": "execute_result"
    }
   ],
   "source": [
    "preds_label = argmax(preds_test,axis=1)\n",
    "1.0*sum(abs(preds_label == t_y))/t_y.size\n"
   ]
  },
  {
   "cell_type": "code",
   "execution_count": 139,
   "metadata": {},
   "outputs": [],
   "source": [
    "preds = clf.predict(test_feature.iloc[:,1:])\n"
   ]
  },
  {
   "cell_type": "code",
   "execution_count": 140,
   "metadata": {},
   "outputs": [
    {
     "name": "stderr",
     "output_type": "stream",
     "text": [
      "/Users/cql/anaconda2/lib/python2.7/site-packages/ipykernel_launcher.py:3: SettingWithCopyWarning: \n",
      "A value is trying to be set on a copy of a slice from a DataFrame.\n",
      "Try using .loc[row_indexer,col_indexer] = value instead\n",
      "\n",
      "See the caveats in the documentation: http://pandas.pydata.org/pandas-docs/stable/indexing.html#indexing-view-versus-copy\n",
      "  This is separate from the ipykernel package so we can avoid doing imports until\n"
     ]
    },
    {
     "data": {
      "text/plain": [
       "star       84091\n",
       "unknown    12504\n",
       "galaxy      2454\n",
       "qso          951\n",
       "Name: pred, dtype: int64"
      ]
     },
     "execution_count": 140,
     "metadata": {},
     "output_type": "execute_result"
    }
   ],
   "source": [
    "sb = submit(preds, test_feature, label_map)\n",
    "sb.pred.value_counts()"
   ]
  },
  {
   "cell_type": "code",
   "execution_count": 108,
   "metadata": {},
   "outputs": [
    {
     "data": {
      "text/plain": [
       "star       84431\n",
       "unknown    12243\n",
       "galaxy      2283\n",
       "qso         1043\n",
       "Name: pred, dtype: int64"
      ]
     },
     "execution_count": 108,
     "metadata": {},
     "output_type": "execute_result"
    }
   ],
   "source": [
    "sb.pred.value_counts()"
   ]
  },
  {
   "cell_type": "code",
   "execution_count": null,
   "metadata": {},
   "outputs": [],
   "source": []
  }
 ],
 "metadata": {
  "kernelspec": {
   "display_name": "Python 2",
   "language": "python",
   "name": "python2"
  },
  "language_info": {
   "codemirror_mode": {
    "name": "ipython",
    "version": 2
   },
   "file_extension": ".py",
   "mimetype": "text/x-python",
   "name": "python",
   "nbconvert_exporter": "python",
   "pygments_lexer": "ipython2",
   "version": "2.7.11"
  }
 },
 "nbformat": 4,
 "nbformat_minor": 2
}
