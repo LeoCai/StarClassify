{
 "cells": [
  {
   "cell_type": "code",
   "execution_count": 16,
   "metadata": {},
   "outputs": [],
   "source": [
    "import pandas as pd\n",
    "from pandas import DataFrame\n",
    "from pandas import concat\n",
    "import matplotlib.pyplot as plt\n",
    "import xgboost as xgb\n",
    "import numpy\n",
    "from keras.models import Sequential\n",
    "from keras.layers import Dense,Dropout\n",
    "from keras.wrappers.scikit_learn import KerasClassifier\n",
    "from keras.utils import np_utils\n",
    "from numpy import argmax\n",
    "from sklearn.model_selection import cross_val_score\n",
    "from sklearn.model_selection import KFold\n",
    "from sklearn.preprocessing import LabelEncoder\n",
    "from sklearn.pipeline import Pipeline\n",
    "import random\n",
    "%matplotlib inline\n",
    "\n",
    "inPath = './datas/first_train_data_20180131/'\n"
   ]
  },
  {
   "cell_type": "code",
   "execution_count": 17,
   "metadata": {},
   "outputs": [],
   "source": [
    "train_index = pd.read_csv('./datas/first_train_index_20180131.csv')"
   ]
  },
  {
   "cell_type": "code",
   "execution_count": 18,
   "metadata": {},
   "outputs": [],
   "source": [
    "test_index = pd.read_csv('./datas/first_test_index_20180131.csv')"
   ]
  },
  {
   "cell_type": "code",
   "execution_count": 19,
   "metadata": {},
   "outputs": [
    {
     "data": {
      "text/html": [
       "<div>\n",
       "<style>\n",
       "    .dataframe thead tr:only-child th {\n",
       "        text-align: right;\n",
       "    }\n",
       "\n",
       "    .dataframe thead th {\n",
       "        text-align: left;\n",
       "    }\n",
       "\n",
       "    .dataframe tbody tr th {\n",
       "        vertical-align: top;\n",
       "    }\n",
       "</style>\n",
       "<table border=\"1\" class=\"dataframe\">\n",
       "  <thead>\n",
       "    <tr style=\"text-align: right;\">\n",
       "      <th></th>\n",
       "      <th>id</th>\n",
       "    </tr>\n",
       "  </thead>\n",
       "  <tbody>\n",
       "    <tr>\n",
       "      <th>0</th>\n",
       "      <td>822405</td>\n",
       "    </tr>\n",
       "    <tr>\n",
       "      <th>1</th>\n",
       "      <td>1142964</td>\n",
       "    </tr>\n",
       "    <tr>\n",
       "      <th>2</th>\n",
       "      <td>1241977</td>\n",
       "    </tr>\n",
       "    <tr>\n",
       "      <th>3</th>\n",
       "      <td>1309049</td>\n",
       "    </tr>\n",
       "    <tr>\n",
       "      <th>4</th>\n",
       "      <td>1085810</td>\n",
       "    </tr>\n",
       "  </tbody>\n",
       "</table>\n",
       "</div>"
      ],
      "text/plain": [
       "        id\n",
       "0   822405\n",
       "1  1142964\n",
       "2  1241977\n",
       "3  1309049\n",
       "4  1085810"
      ]
     },
     "execution_count": 19,
     "metadata": {},
     "output_type": "execute_result"
    }
   ],
   "source": [
    "train_index.head()\n",
    "test_index.head()"
   ]
  },
  {
   "cell_type": "code",
   "execution_count": 20,
   "metadata": {},
   "outputs": [],
   "source": [
    "def parseFeatureByRow(row, hasLabel=True):\n",
    "    id = str(row.id)\n",
    "    if hasLabel:\n",
    "        info = pd.read_csv('./datas/first_train_data_20180131/' + id + '.txt',header=None).loc[0];\n",
    "    else:\n",
    "        info = pd.read_csv('./datas/first_test_data_20180131/' + id + '.txt',header=None).loc[0];\n",
    "    if hasLabel:\n",
    "        info[len(info)] = row.y1\n",
    "        info[len(info)] = row.y2\n",
    "        info[len(info)] = row.y3\n",
    "        info[len(info)] = row.y4\n",
    "    return info;"
   ]
  },
  {
   "cell_type": "code",
   "execution_count": 48,
   "metadata": {},
   "outputs": [],
   "source": [
    "def baseline_model():\n",
    "\t# create model\n",
    "\tmodel = Sequential()\n",
    "\tmodel.add(Dense(20, input_dim=2600, activation='relu'))\n",
    "\tmodel.add(Dense(4, activation='softmax'))\n",
    "\t# Compile model\n",
    "\tmodel.compile(loss='categorical_crossentropy', optimizer='adam', metrics=['accuracy'])\n",
    "\treturn model"
   ]
  },
  {
   "cell_type": "code",
   "execution_count": 49,
   "metadata": {},
   "outputs": [],
   "source": [
    "# sample = train_index.sample(1000, replace=True)\n",
    "# train_d = [parseFeatureByRow(row) for idx, row in sample.iterrows()]\n",
    "# train_d = pd.DataFrame(train_d)\n",
    "# train_d.head()"
   ]
  },
  {
   "cell_type": "code",
   "execution_count": 50,
   "metadata": {},
   "outputs": [
    {
     "data": {
      "text/plain": [
       "array([[ 0.,  0.,  1.,  0.],\n",
       "       [ 0.,  0.,  1.,  0.],\n",
       "       [ 0.,  0.,  1.,  0.],\n",
       "       ..., \n",
       "       [ 0.,  0.,  1.,  0.],\n",
       "       [ 0.,  0.,  1.,  0.],\n",
       "       [ 0.,  0.,  1.,  0.]])"
      ]
     },
     "execution_count": 50,
     "metadata": {},
     "output_type": "execute_result"
    }
   ],
   "source": [
    "encoder = LabelEncoder()\n",
    "encoder.fit(train_index.iloc[:,-1])\n",
    "encoded_Y = encoder.transform(train_index.iloc[:,-1])\n",
    "dummy_y = np_utils.to_categorical(encoded_Y)\n",
    "dummy_y"
   ]
  },
  {
   "cell_type": "code",
   "execution_count": 51,
   "metadata": {},
   "outputs": [],
   "source": [
    "tran_index_label = pd.concat([train_index, pd.DataFrame(dummy_y,columns=['y1', 'y2', 'y3', 'y4'])], axis=1)"
   ]
  },
  {
   "cell_type": "code",
   "execution_count": 52,
   "metadata": {},
   "outputs": [],
   "source": [
    "def genearte_batch_data(index_data, batch_size=5, hasLabel= True):\n",
    "    while (True):\n",
    "        y1 = index_data.loc[index_data.y1==1,:].sample(batch_size,replace=True)\n",
    "        y2 = index_data.loc[index_data.y2==1,:].sample(batch_size,replace=True)\n",
    "        y3 = index_data.loc[index_data.y3==1,:].sample(batch_size,replace=True)\n",
    "        y4 = index_data.loc[index_data.y4==1,:].sample(batch_size,replace=True)\n",
    "        batch = pd.concat([y1, y2, y3, y4])\n",
    "#         return (batch)\n",
    "        train_d = [parseFeatureByRow(row,hasLabel) for idx, row in batch.iterrows()]\n",
    "        train_d = pd.DataFrame(train_d)\n",
    "        x = train_d.iloc[:,:-4]\n",
    "        y = train_d.iloc[:,-4:]\n",
    "#         return x\n",
    "        yield x, y\n"
   ]
  },
  {
   "cell_type": "code",
   "execution_count": 53,
   "metadata": {},
   "outputs": [],
   "source": [
    "def genearte_test_batch_data(index_data, batch_size=5):\n",
    "    i = 0\n",
    "    while (True):\n",
    "        batch = index_data.loc[(i*batch_size):(i+1)*batch_size]\n",
    "        i=i+1\n",
    "        train_d = [parseFeatureByRow(row,hasLabel=False) for idx, row in batch.iterrows()]\n",
    "        train_d = pd.DataFrame(train_d)\n",
    "        x = train_d\n",
    "        print('finished:'+i)\n",
    "        yield x"
   ]
  },
  {
   "cell_type": "code",
   "execution_count": 54,
   "metadata": {},
   "outputs": [
    {
     "data": {
      "text/plain": [
       "<generator object genearte_batch_data at 0x1a224e98c0>"
      ]
     },
     "execution_count": 54,
     "metadata": {},
     "output_type": "execute_result"
    }
   ],
   "source": [
    "genearte_batch_data(tran_index_label)"
   ]
  },
  {
   "cell_type": "code",
   "execution_count": 55,
   "metadata": {},
   "outputs": [
    {
     "name": "stdout",
     "output_type": "stream",
     "text": [
      "Epoch 1/1\n",
      "\r",
      "1/1 [==============================] - 92s 92s/step - loss: 10.0918 - acc: 0.2775\n"
     ]
    }
   ],
   "source": [
    "batch_size = 100\n",
    "epochs = 1\n",
    "model = baseline_model()\n",
    "bst = model.fit_generator(genearte_batch_data(tran_index_label, batch_size), steps_per_epoch=1, epochs=epochs, workers=10)\n"
   ]
  },
  {
   "cell_type": "code",
   "execution_count": 303,
   "metadata": {},
   "outputs": [],
   "source": [
    "steps = test_index.size/batch_size;\n",
    "pred = model.predict_generator(genearte_test_batch_data(test_index, batch_size), steps=steps, workers=4)\n"
   ]
  },
  {
   "cell_type": "code",
   "execution_count": 301,
   "metadata": {},
   "outputs": [
    {
     "data": {
      "text/plain": [
       "20"
      ]
     },
     "execution_count": 301,
     "metadata": {},
     "output_type": "execute_result"
    }
   ],
   "source": [
    "batch_size"
   ]
  },
  {
   "cell_type": "code",
   "execution_count": 304,
   "metadata": {},
   "outputs": [],
   "source": [
    "def submit(preds, test_feature, fileName):\n",
    "    submission = test_feature[['id']]\n",
    "    final_pred = encoder.inverse_transform(argmax(preds,axis=1))\n",
    "    submission['pred'] = pd.Series(final_pred)\n",
    "    submission.to_csv('./predicts/'+fileName, header=False, index=False)\n",
    "    return submission"
   ]
  },
  {
   "cell_type": "code",
   "execution_count": 306,
   "metadata": {},
   "outputs": [],
   "source": [
    "rs  =submit(pred, test_index, '0214_2_dnn.csv')"
   ]
  },
  {
   "cell_type": "code",
   "execution_count": 308,
   "metadata": {},
   "outputs": [
    {
     "data": {
      "text/plain": [
       "array(['star', 'galaxy', 'unknown', 'qso'], dtype=object)"
      ]
     },
     "execution_count": 308,
     "metadata": {},
     "output_type": "execute_result"
    }
   ],
   "source": []
  },
  {
   "cell_type": "code",
   "execution_count": 272,
   "metadata": {},
   "outputs": [
    {
     "data": {
      "text/plain": [
       "array(['star', 'star', 'star', 'star', 'star', 'star', 'star', 'star',\n",
       "       'star', 'star', 'star', 'star', 'star', 'star', 'star', 'star',\n",
       "       'star', 'star', 'star', 'star', 'star', 'star', 'star', 'star',\n",
       "       'star', 'star', 'star', 'star', 'star', 'star', 'star', 'star',\n",
       "       'star', 'star', 'star', 'star', 'star', 'star', 'star', 'star',\n",
       "       'star', 'star', 'star', 'star', 'star', 'star', 'star', 'star',\n",
       "       'star', 'star', 'star', 'star', 'star', 'star', 'star', 'star',\n",
       "       'star', 'star', 'star', 'star', 'star', 'star', 'star', 'star',\n",
       "       'star', 'star', 'star', 'star', 'star', 'star', 'star', 'star',\n",
       "       'star', 'star', 'star', 'star', 'star', 'star', 'star', 'star',\n",
       "       'star', 'star', 'star', 'star', 'star', 'star', 'star', 'star',\n",
       "       'star', 'star', 'star', 'star', 'star', 'star', 'star', 'star',\n",
       "       'star', 'star', 'star', 'star'], dtype=object)"
      ]
     },
     "execution_count": 272,
     "metadata": {},
     "output_type": "execute_result"
    }
   ],
   "source": []
  },
  {
   "cell_type": "code",
   "execution_count": 158,
   "metadata": {},
   "outputs": [
    {
     "data": {
      "text/plain": [
       "<generator object genearte_batch_data at 0x1a55d43e10>"
      ]
     },
     "execution_count": 158,
     "metadata": {},
     "output_type": "execute_result"
    }
   ],
   "source": [
    "genearte_batch_data(train_index,5)"
   ]
  },
  {
   "cell_type": "code",
   "execution_count": 106,
   "metadata": {},
   "outputs": [
    {
     "name": "stdout",
     "output_type": "stream",
     "text": [
      "Baseline: 48.10% (42.55%)\n"
     ]
    }
   ],
   "source": [
    "X = train_d.iloc[:,:-1]\n",
    "seed = 7\n",
    "numpy.random.seed(seed)\n",
    "estimator = KerasClassifier(build_fn=baseline_model, epochs=1000,  verbose=0)\n",
    "kfold = KFold(n_splits=10, shuffle=True, random_state=seed)\n",
    "results = cross_val_score(estimator, X, dummy_y, cv=kfold)\n",
    "print(\"Baseline: %.2f%% (%.2f%%)\" % (results.mean()*100, results.std()*100))\n",
    "\n",
    "\n",
    "\n"
   ]
  },
  {
   "cell_type": "code",
   "execution_count": 107,
   "metadata": {},
   "outputs": [
    {
     "data": {
      "text/plain": [
       "array([ 0.02,  0.03,  0.08,  0.9 ,  0.9 ,  0.93,  0.91,  0.08,  0.89,  0.07])"
      ]
     },
     "execution_count": 107,
     "metadata": {},
     "output_type": "execute_result"
    }
   ],
   "source": []
  },
  {
   "cell_type": "code",
   "execution_count": null,
   "metadata": {},
   "outputs": [],
   "source": []
  }
 ],
 "metadata": {
  "kernelspec": {
   "display_name": "Python 2",
   "language": "python",
   "name": "python2"
  },
  "language_info": {
   "codemirror_mode": {
    "name": "ipython",
    "version": 2
   },
   "file_extension": ".py",
   "mimetype": "text/x-python",
   "name": "python",
   "nbconvert_exporter": "python",
   "pygments_lexer": "ipython2",
   "version": "2.7.14"
  }
 },
 "nbformat": 4,
 "nbformat_minor": 2
}
