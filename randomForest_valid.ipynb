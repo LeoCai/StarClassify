{
 "cells": [
  {
   "cell_type": "code",
   "execution_count": 470,
   "metadata": {},
   "outputs": [],
   "source": [
    "import pandas as pd\n",
    "from pandas import DataFrame\n",
    "from pandas import concat\n",
    "import matplotlib.pyplot as plt\n",
    "import xgboost as xgb\n",
    "from sklearn.datasets import load_iris\n",
    "from sklearn.ensemble import RandomForestClassifier\n",
    "import pandas as pd\n",
    "import numpy as np\n",
    "from sklearn.cross_validation import cross_val_score # K折交叉验证模块\n",
    "from sklearn.metrics import roc_auc_score\n",
    "from sklearn.preprocessing import MinMaxScaler\n",
    "from sklearn import preprocessing\n",
    "from sklearn import svm\n",
    "from sklearn.feature_selection import VarianceThreshold\n",
    "from sklearn.feature_selection import RFE\n",
    "from sklearn import preprocessing\n",
    "\n",
    "%matplotlib inline"
   ]
  },
  {
   "cell_type": "code",
   "execution_count": 471,
   "metadata": {},
   "outputs": [],
   "source": [
    "def submit(preds, test_feature, label_map):\n",
    "    submission = test_feature[['id']]\n",
    "    submission['pred'] = [label_map[l] for l in np.nditer(preds)]\n",
    "    submission.to_csv('./predicts/0216_1_partition.csv', header=False, index=False)\n",
    "    return submission\n",
    "    "
   ]
  },
  {
   "cell_type": "code",
   "execution_count": 472,
   "metadata": {},
   "outputs": [
    {
     "data": {
      "text/html": [
       "<div>\n",
       "<style>\n",
       "    .dataframe thead tr:only-child th {\n",
       "        text-align: right;\n",
       "    }\n",
       "\n",
       "    .dataframe thead th {\n",
       "        text-align: left;\n",
       "    }\n",
       "\n",
       "    .dataframe tbody tr th {\n",
       "        vertical-align: top;\n",
       "    }\n",
       "</style>\n",
       "<table border=\"1\" class=\"dataframe\">\n",
       "  <thead>\n",
       "    <tr style=\"text-align: right;\">\n",
       "      <th></th>\n",
       "      <th>0</th>\n",
       "      <th>1</th>\n",
       "      <th>2</th>\n",
       "      <th>3</th>\n",
       "      <th>4</th>\n",
       "      <th>5</th>\n",
       "      <th>6</th>\n",
       "      <th>7</th>\n",
       "      <th>8</th>\n",
       "      <th>9</th>\n",
       "      <th>...</th>\n",
       "      <th>112</th>\n",
       "      <th>113</th>\n",
       "      <th>114</th>\n",
       "      <th>115</th>\n",
       "      <th>116</th>\n",
       "      <th>117</th>\n",
       "      <th>118</th>\n",
       "      <th>119</th>\n",
       "      <th>120</th>\n",
       "      <th>121</th>\n",
       "    </tr>\n",
       "  </thead>\n",
       "  <tbody>\n",
       "    <tr>\n",
       "      <th>0</th>\n",
       "      <td>696220</td>\n",
       "      <td>2807192.6</td>\n",
       "      <td>1206.6</td>\n",
       "      <td>4833.9</td>\n",
       "      <td>-362.9</td>\n",
       "      <td>3137136.9</td>\n",
       "      <td>4.0</td>\n",
       "      <td>2326.5</td>\n",
       "      <td>-0.3</td>\n",
       "      <td>380.9</td>\n",
       "      <td>...</td>\n",
       "      <td>1.5</td>\n",
       "      <td>419.6</td>\n",
       "      <td>3142.2</td>\n",
       "      <td>3516.1</td>\n",
       "      <td>2697.3</td>\n",
       "      <td>109977.9</td>\n",
       "      <td>1.1</td>\n",
       "      <td>0.1</td>\n",
       "      <td>0.9</td>\n",
       "      <td>star</td>\n",
       "    </tr>\n",
       "    <tr>\n",
       "      <th>1</th>\n",
       "      <td>911466</td>\n",
       "      <td>899.3</td>\n",
       "      <td>112.2</td>\n",
       "      <td>166.7</td>\n",
       "      <td>-2.9</td>\n",
       "      <td>291801.1</td>\n",
       "      <td>1.5</td>\n",
       "      <td>8.0</td>\n",
       "      <td>-0.0</td>\n",
       "      <td>1.0</td>\n",
       "      <td>...</td>\n",
       "      <td>0.8</td>\n",
       "      <td>1.1</td>\n",
       "      <td>106.6</td>\n",
       "      <td>125.3</td>\n",
       "      <td>82.4</td>\n",
       "      <td>3730.8</td>\n",
       "      <td>1.2</td>\n",
       "      <td>0.0</td>\n",
       "      <td>0.8</td>\n",
       "      <td>star</td>\n",
       "    </tr>\n",
       "    <tr>\n",
       "      <th>2</th>\n",
       "      <td>915856</td>\n",
       "      <td>434.2</td>\n",
       "      <td>61.4</td>\n",
       "      <td>126.5</td>\n",
       "      <td>24.1</td>\n",
       "      <td>159725.3</td>\n",
       "      <td>2.1</td>\n",
       "      <td>7.1</td>\n",
       "      <td>0.4</td>\n",
       "      <td>0.2</td>\n",
       "      <td>...</td>\n",
       "      <td>0.8</td>\n",
       "      <td>0.1</td>\n",
       "      <td>81.3</td>\n",
       "      <td>88.6</td>\n",
       "      <td>76.2</td>\n",
       "      <td>2845.1</td>\n",
       "      <td>1.1</td>\n",
       "      <td>0.0</td>\n",
       "      <td>0.9</td>\n",
       "      <td>star</td>\n",
       "    </tr>\n",
       "    <tr>\n",
       "      <th>3</th>\n",
       "      <td>720026</td>\n",
       "      <td>17101718.7</td>\n",
       "      <td>12073.5</td>\n",
       "      <td>20181.5</td>\n",
       "      <td>3666.1</td>\n",
       "      <td>31391013.8</td>\n",
       "      <td>1.7</td>\n",
       "      <td>1416.5</td>\n",
       "      <td>0.3</td>\n",
       "      <td>4507.3</td>\n",
       "      <td>...</td>\n",
       "      <td>0.9</td>\n",
       "      <td>4272.4</td>\n",
       "      <td>16433.0</td>\n",
       "      <td>17430.5</td>\n",
       "      <td>14962.0</td>\n",
       "      <td>575156.0</td>\n",
       "      <td>1.1</td>\n",
       "      <td>0.3</td>\n",
       "      <td>0.9</td>\n",
       "      <td>star</td>\n",
       "    </tr>\n",
       "    <tr>\n",
       "      <th>4</th>\n",
       "      <td>1198160</td>\n",
       "      <td>11729.1</td>\n",
       "      <td>379.8</td>\n",
       "      <td>491.7</td>\n",
       "      <td>-225.7</td>\n",
       "      <td>987376.9</td>\n",
       "      <td>1.3</td>\n",
       "      <td>30.9</td>\n",
       "      <td>-0.6</td>\n",
       "      <td>10.4</td>\n",
       "      <td>...</td>\n",
       "      <td>0.9</td>\n",
       "      <td>10.6</td>\n",
       "      <td>359.2</td>\n",
       "      <td>410.2</td>\n",
       "      <td>273.5</td>\n",
       "      <td>12572.3</td>\n",
       "      <td>1.1</td>\n",
       "      <td>0.0</td>\n",
       "      <td>0.8</td>\n",
       "      <td>star</td>\n",
       "    </tr>\n",
       "  </tbody>\n",
       "</table>\n",
       "<p>5 rows × 122 columns</p>\n",
       "</div>"
      ],
      "text/plain": [
       "       0           1        2        3       4           5    6       7    \\\n",
       "0   696220   2807192.6   1206.6   4833.9  -362.9   3137136.9  4.0  2326.5   \n",
       "1   911466       899.3    112.2    166.7    -2.9    291801.1  1.5     8.0   \n",
       "2   915856       434.2     61.4    126.5    24.1    159725.3  2.1     7.1   \n",
       "3   720026  17101718.7  12073.5  20181.5  3666.1  31391013.8  1.7  1416.5   \n",
       "4  1198160     11729.1    379.8    491.7  -225.7    987376.9  1.3    30.9   \n",
       "\n",
       "   8       9    ...   112     113      114      115      116       117  118  \\\n",
       "0 -0.3   380.9  ...   1.5   419.6   3142.2   3516.1   2697.3  109977.9  1.1   \n",
       "1 -0.0     1.0  ...   0.8     1.1    106.6    125.3     82.4    3730.8  1.2   \n",
       "2  0.4     0.2  ...   0.8     0.1     81.3     88.6     76.2    2845.1  1.1   \n",
       "3  0.3  4507.3  ...   0.9  4272.4  16433.0  17430.5  14962.0  575156.0  1.1   \n",
       "4 -0.6    10.4  ...   0.9    10.6    359.2    410.2    273.5   12572.3  1.1   \n",
       "\n",
       "   119  120   121  \n",
       "0  0.1  0.9  star  \n",
       "1  0.0  0.8  star  \n",
       "2  0.0  0.9  star  \n",
       "3  0.3  0.9  star  \n",
       "4  0.0  0.8  star  \n",
       "\n",
       "[5 rows x 122 columns]"
      ]
     },
     "execution_count": 472,
     "metadata": {},
     "output_type": "execute_result"
    }
   ],
   "source": [
    "test_feature = pd.read_csv('./test_feature_line_index_0217.csv',header=None)\n",
    "test_feature.head()\n",
    "train_feature = pd.read_csv('./train_feature_line_index_0217.csv',header=None)\n",
    "test_feature.rename(columns={0:'id'}, inplace=True)\n",
    "train_feature.head()\n"
   ]
  },
  {
   "cell_type": "code",
   "execution_count": 473,
   "metadata": {},
   "outputs": [
    {
     "data": {
      "text/plain": [
       "122"
      ]
     },
     "execution_count": 473,
     "metadata": {},
     "output_type": "execute_result"
    }
   ],
   "source": [
    "train_feature.shape[1]"
   ]
  },
  {
   "cell_type": "code",
   "execution_count": 480,
   "metadata": {},
   "outputs": [],
   "source": [
    "columns = {0:'id'}\n",
    "columns[train_feature.shape[1]-1] = 'label'\n",
    "train_feature.rename(columns=columns, inplace=True)\n",
    "train_feature.head()\n",
    "train_feature = train_feature.fillna(0)"
   ]
  },
  {
   "cell_type": "code",
   "execution_count": 481,
   "metadata": {},
   "outputs": [],
   "source": [
    "def getTrain(train_feature):\n",
    "    train_feature = train_feature.sample(train_feature.shape[0],replace=False)\n",
    "    testEnd = int(train_feature.shape[0]/3)\n",
    "    train_test = train_feature.loc[:testEnd,:]\n",
    "    train_feature = train_feature.loc[testEnd:,:]\n",
    "    return (train_test, train_feature)"
   ]
  },
  {
   "cell_type": "code",
   "execution_count": 482,
   "metadata": {},
   "outputs": [],
   "source": [
    "def balanceData(train_feature, realBalance=False):\n",
    "    if realBalance:\n",
    "        train_star = train_feature[train_feature.label=='star'].sample(30000, replace=True)\n",
    "        unknow_star = train_feature[train_feature.label=='unknown'].sample(30000, replace=True)\n",
    "        galaxy_star = train_feature[train_feature.label=='galaxy'].sample(30000, replace=True)\n",
    "        qso_star = train_feature[train_feature.label=='qso'].sample(30000, replace=True)\n",
    "        sampled_train = pd.concat([train_star,unknow_star,galaxy_star, qso_star])\n",
    "    else :\n",
    "        sampled_train = train_feature\n",
    "    features = train_feature.columns[1:-1]\n",
    "    x= sampled_train[features]\n",
    "    y, label_map = pd.factorize(sampled_train['label'])\n",
    "    return x, y, label_map"
   ]
  },
  {
   "cell_type": "code",
   "execution_count": 483,
   "metadata": {},
   "outputs": [],
   "source": [
    "train_t, train_f =  getTrain(train_feature)\n",
    "x, y, label_map = balanceData(train_f)\n",
    "t_x, t_y, _ = balanceData(train_t, realBalance=True)"
   ]
  },
  {
   "cell_type": "code",
   "execution_count": 484,
   "metadata": {},
   "outputs": [],
   "source": [
    "clf = RandomForestClassifier(n_jobs=4, max_depth=30, n_estimators=200)\n",
    "# clf = svm.SVC(kernel='rbf')"
   ]
  },
  {
   "cell_type": "code",
   "execution_count": 485,
   "metadata": {},
   "outputs": [
    {
     "data": {
      "text/plain": [
       "0.28230833333333333"
      ]
     },
     "execution_count": 485,
     "metadata": {},
     "output_type": "execute_result"
    }
   ],
   "source": [
    "rs = clf.fit(x, y)\n",
    "# preds_test = clf.predict(t_x)\n",
    "clf.score(t_x, t_y, )"
   ]
  },
  {
   "cell_type": "code",
   "execution_count": null,
   "metadata": {},
   "outputs": [],
   "source": []
  },
  {
   "cell_type": "code",
   "execution_count": 455,
   "metadata": {},
   "outputs": [
    {
     "data": {
      "text/plain": [
       "0.47013333333333335"
      ]
     },
     "execution_count": 455,
     "metadata": {},
     "output_type": "execute_result"
    }
   ],
   "source": [
    "scaler = preprocessing.Normalizer().fit(x)\n",
    "p_x = scaler.transform(x)  \n",
    "p_t_x = scaler.transform(t_x)  \n",
    "rs = clf.fit(p_x, y)\n",
    "preds_test = clf.predict(p_t_x)\n",
    "clf.score(p_t_x, t_y)"
   ]
  },
  {
   "cell_type": "code",
   "execution_count": 315,
   "metadata": {},
   "outputs": [],
   "source": [
    "preds = clf.predict(test_feature.iloc[:,1:])\n"
   ]
  },
  {
   "cell_type": "code",
   "execution_count": 140,
   "metadata": {},
   "outputs": [
    {
     "name": "stderr",
     "output_type": "stream",
     "text": [
      "/Users/cql/anaconda2/lib/python2.7/site-packages/ipykernel_launcher.py:3: SettingWithCopyWarning: \n",
      "A value is trying to be set on a copy of a slice from a DataFrame.\n",
      "Try using .loc[row_indexer,col_indexer] = value instead\n",
      "\n",
      "See the caveats in the documentation: http://pandas.pydata.org/pandas-docs/stable/indexing.html#indexing-view-versus-copy\n",
      "  This is separate from the ipykernel package so we can avoid doing imports until\n"
     ]
    },
    {
     "data": {
      "text/plain": [
       "star       84091\n",
       "unknown    12504\n",
       "galaxy      2454\n",
       "qso          951\n",
       "Name: pred, dtype: int64"
      ]
     },
     "execution_count": 140,
     "metadata": {},
     "output_type": "execute_result"
    }
   ],
   "source": [
    "sb = submit(preds, test_feature, label_map)\n",
    "sb.pred.value_counts()"
   ]
  },
  {
   "cell_type": "code",
   "execution_count": 108,
   "metadata": {},
   "outputs": [
    {
     "data": {
      "text/plain": [
       "star       84431\n",
       "unknown    12243\n",
       "galaxy      2283\n",
       "qso         1043\n",
       "Name: pred, dtype: int64"
      ]
     },
     "execution_count": 108,
     "metadata": {},
     "output_type": "execute_result"
    }
   ],
   "source": [
    "sb.pred.value_counts()"
   ]
  },
  {
   "cell_type": "code",
   "execution_count": null,
   "metadata": {},
   "outputs": [],
   "source": []
  }
 ],
 "metadata": {
  "kernelspec": {
   "display_name": "Python 2",
   "language": "python",
   "name": "python2"
  },
  "language_info": {
   "codemirror_mode": {
    "name": "ipython",
    "version": 2
   },
   "file_extension": ".py",
   "mimetype": "text/x-python",
   "name": "python",
   "nbconvert_exporter": "python",
   "pygments_lexer": "ipython2",
   "version": "2.7.11"
  }
 },
 "nbformat": 4,
 "nbformat_minor": 2
}
